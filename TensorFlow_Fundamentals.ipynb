{
  "nbformat": 4,
  "nbformat_minor": 0,
  "metadata": {
    "colab": {
      "provenance": [],
      "authorship_tag": "ABX9TyPIexmtq6weUp1TxM7iyMqS",
      "include_colab_link": true
    },
    "kernelspec": {
      "name": "python3",
      "display_name": "Python 3"
    },
    "language_info": {
      "name": "python"
    }
  },
  "cells": [
    {
      "cell_type": "markdown",
      "metadata": {
        "id": "view-in-github",
        "colab_type": "text"
      },
      "source": [
        "<a href=\"https://colab.research.google.com/github/nidheesh-kadem/SP500/blob/main/TensorFlow_Fundamentals.ipynb\" target=\"_parent\"><img src=\"https://colab.research.google.com/assets/colab-badge.svg\" alt=\"Open In Colab\"/></a>"
      ]
    },
    {
      "cell_type": "code",
      "execution_count": 88,
      "metadata": {
        "id": "5073OzcW52Dq",
        "colab": {
          "base_uri": "https://localhost:8080/"
        },
        "outputId": "991d4535-fbdf-4227-840c-4b3755831b13"
      },
      "outputs": [
        {
          "output_type": "stream",
          "name": "stdout",
          "text": [
            "2.17.0\n"
          ]
        }
      ],
      "source": [
        "import tensorflow as tf\n",
        "print(tf.__version__)"
      ]
    },
    {
      "cell_type": "code",
      "source": [
        "scalar = tf.constant(7)\n",
        "scalar"
      ],
      "metadata": {
        "colab": {
          "base_uri": "https://localhost:8080/"
        },
        "id": "v_sgzE3OhDVD",
        "outputId": "d9d2416f-ad6f-4a9c-e209-6439845b783b"
      },
      "execution_count": 89,
      "outputs": [
        {
          "output_type": "execute_result",
          "data": {
            "text/plain": [
              "<tf.Tensor: shape=(), dtype=int32, numpy=7>"
            ]
          },
          "metadata": {},
          "execution_count": 89
        }
      ]
    },
    {
      "cell_type": "code",
      "source": [
        "scalar.ndim"
      ],
      "metadata": {
        "colab": {
          "base_uri": "https://localhost:8080/"
        },
        "id": "nLLd3Ml5x8C6",
        "outputId": "d1148da1-6888-49ac-d9d6-97395a349160"
      },
      "execution_count": 90,
      "outputs": [
        {
          "output_type": "execute_result",
          "data": {
            "text/plain": [
              "0"
            ]
          },
          "metadata": {},
          "execution_count": 90
        }
      ]
    },
    {
      "cell_type": "code",
      "source": [
        "vector = tf.constant([10,10])\n",
        "vector"
      ],
      "metadata": {
        "colab": {
          "base_uri": "https://localhost:8080/"
        },
        "id": "uftNAlWSx-un",
        "outputId": "b8a22195-b3f6-4a20-fb64-4e656680278c"
      },
      "execution_count": 91,
      "outputs": [
        {
          "output_type": "execute_result",
          "data": {
            "text/plain": [
              "<tf.Tensor: shape=(2,), dtype=int32, numpy=array([10, 10], dtype=int32)>"
            ]
          },
          "metadata": {},
          "execution_count": 91
        }
      ]
    },
    {
      "cell_type": "code",
      "source": [
        "vector.ndim"
      ],
      "metadata": {
        "colab": {
          "base_uri": "https://localhost:8080/"
        },
        "id": "f0100wICyOhe",
        "outputId": "5527e72d-1be3-4345-cc93-167a2c35b6b7"
      },
      "execution_count": 92,
      "outputs": [
        {
          "output_type": "execute_result",
          "data": {
            "text/plain": [
              "1"
            ]
          },
          "metadata": {},
          "execution_count": 92
        }
      ]
    },
    {
      "cell_type": "code",
      "source": [
        "matrix = tf.constant([[10,7],\n",
        "                    [7,10]])\n",
        "matrix"
      ],
      "metadata": {
        "colab": {
          "base_uri": "https://localhost:8080/"
        },
        "id": "mbUl39qWyQ63",
        "outputId": "899da8d9-e4bb-40f5-afcb-80ed398555dc"
      },
      "execution_count": 93,
      "outputs": [
        {
          "output_type": "execute_result",
          "data": {
            "text/plain": [
              "<tf.Tensor: shape=(2, 2), dtype=int32, numpy=\n",
              "array([[10,  7],\n",
              "       [ 7, 10]], dtype=int32)>"
            ]
          },
          "metadata": {},
          "execution_count": 93
        }
      ]
    },
    {
      "cell_type": "code",
      "source": [
        "matrix.ndim"
      ],
      "metadata": {
        "colab": {
          "base_uri": "https://localhost:8080/"
        },
        "id": "AJ2rSzgcyvcm",
        "outputId": "b2e2591c-c7e9-4281-c3b8-8823834590bd"
      },
      "execution_count": 94,
      "outputs": [
        {
          "output_type": "execute_result",
          "data": {
            "text/plain": [
              "2"
            ]
          },
          "metadata": {},
          "execution_count": 94
        }
      ]
    },
    {
      "cell_type": "code",
      "source": [
        "another_matrix = tf.constant([[10., 7.],\n",
        "                              [7., 10.],\n",
        "                              [10., .7]], dtype=tf.float16)\n",
        "another_matrix"
      ],
      "metadata": {
        "colab": {
          "base_uri": "https://localhost:8080/"
        },
        "id": "_k4K8bexzZTA",
        "outputId": "32291773-01fd-45d0-ebff-5cd52850d513"
      },
      "execution_count": 95,
      "outputs": [
        {
          "output_type": "execute_result",
          "data": {
            "text/plain": [
              "<tf.Tensor: shape=(3, 2), dtype=float16, numpy=\n",
              "array([[10. ,  7. ],\n",
              "       [ 7. , 10. ],\n",
              "       [10. ,  0.7]], dtype=float16)>"
            ]
          },
          "metadata": {},
          "execution_count": 95
        }
      ]
    },
    {
      "cell_type": "code",
      "source": [
        "another_matrix.ndim"
      ],
      "metadata": {
        "colab": {
          "base_uri": "https://localhost:8080/"
        },
        "id": "E4nW7VlP0sNu",
        "outputId": "2b9ad5f5-84bc-427d-aaa4-7803eb01758f"
      },
      "execution_count": 96,
      "outputs": [
        {
          "output_type": "execute_result",
          "data": {
            "text/plain": [
              "2"
            ]
          },
          "metadata": {},
          "execution_count": 96
        }
      ]
    },
    {
      "cell_type": "code",
      "source": [
        "tensor = tf.constant([[[10,7],\n",
        "                       [7,10]],\n",
        "                      [[5,10],\n",
        "                       [10,5]],\n",
        "                       [[4,5],\n",
        "                        [5,4]]])\n",
        "tensor"
      ],
      "metadata": {
        "colab": {
          "base_uri": "https://localhost:8080/"
        },
        "id": "U3aaViOB2PvZ",
        "outputId": "dfc0a06a-fe61-47d8-fb77-13b1f38aed22"
      },
      "execution_count": 97,
      "outputs": [
        {
          "output_type": "execute_result",
          "data": {
            "text/plain": [
              "<tf.Tensor: shape=(3, 2, 2), dtype=int32, numpy=\n",
              "array([[[10,  7],\n",
              "        [ 7, 10]],\n",
              "\n",
              "       [[ 5, 10],\n",
              "        [10,  5]],\n",
              "\n",
              "       [[ 4,  5],\n",
              "        [ 5,  4]]], dtype=int32)>"
            ]
          },
          "metadata": {},
          "execution_count": 97
        }
      ]
    },
    {
      "cell_type": "code",
      "source": [
        "tensor.ndim"
      ],
      "metadata": {
        "colab": {
          "base_uri": "https://localhost:8080/"
        },
        "id": "Ld9_ZtVS35FQ",
        "outputId": "3bc05e99-eabc-4987-a56f-14988b31a305"
      },
      "execution_count": 98,
      "outputs": [
        {
          "output_type": "execute_result",
          "data": {
            "text/plain": [
              "3"
            ]
          },
          "metadata": {},
          "execution_count": 98
        }
      ]
    },
    {
      "cell_type": "code",
      "source": [
        "changeable_tensor = tf.Variable([10,7])\n",
        "unchangeable_tensor = tf.constant([10,7])\n",
        "changeable_tensor, unchangeable_tensor"
      ],
      "metadata": {
        "colab": {
          "base_uri": "https://localhost:8080/"
        },
        "id": "WQyU9CL07oVG",
        "outputId": "773b7fcd-87d1-40d4-e5c9-bdc48a025c18"
      },
      "execution_count": 99,
      "outputs": [
        {
          "output_type": "execute_result",
          "data": {
            "text/plain": [
              "(<tf.Variable 'Variable:0' shape=(2,) dtype=int32, numpy=array([10,  7], dtype=int32)>,\n",
              " <tf.Tensor: shape=(2,), dtype=int32, numpy=array([10,  7], dtype=int32)>)"
            ]
          },
          "metadata": {},
          "execution_count": 99
        }
      ]
    },
    {
      "cell_type": "code",
      "source": [
        "random_tensor_1 = tf.random.Generator.from_seed(45)\n",
        "random_tensor_1 = random_tensor_1.uniform([3,3])\n",
        "random_tensor_1"
      ],
      "metadata": {
        "colab": {
          "base_uri": "https://localhost:8080/"
        },
        "id": "Baw0oOA2-sdt",
        "outputId": "649712a5-5534-4033-e219-2cd4cbf1dd03"
      },
      "execution_count": 100,
      "outputs": [
        {
          "output_type": "execute_result",
          "data": {
            "text/plain": [
              "<tf.Tensor: shape=(3, 3), dtype=float32, numpy=\n",
              "array([[0.86540747, 0.8862978 , 0.27795732],\n",
              "       [0.8857763 , 0.2179842 , 0.29115117],\n",
              "       [0.03953862, 0.8136791 , 0.8139852 ]], dtype=float32)>"
            ]
          },
          "metadata": {},
          "execution_count": 100
        }
      ]
    },
    {
      "cell_type": "code",
      "source": [
        "random_tensor_2 = tf.random.Generator.from_seed(45)\n",
        "random_tensor_2 = random_tensor_2.normal([3,3])\n",
        "random_tensor_2"
      ],
      "metadata": {
        "colab": {
          "base_uri": "https://localhost:8080/"
        },
        "id": "ORL8Pexn43SH",
        "outputId": "ab2d7c35-4dd3-478d-f218-e2813d37819c"
      },
      "execution_count": 101,
      "outputs": [
        {
          "output_type": "execute_result",
          "data": {
            "text/plain": [
              "<tf.Tensor: shape=(3, 3), dtype=float32, numpy=\n",
              "array([[-0.3522796 ,  0.40621263, -1.0523509 ],\n",
              "       [ 1.2054597 ,  1.6874489 , -0.4462975 ],\n",
              "       [-2.3410842 ,  0.99009085, -0.0876323 ]], dtype=float32)>"
            ]
          },
          "metadata": {},
          "execution_count": 101
        }
      ]
    },
    {
      "cell_type": "markdown",
      "source": [
        "### In a uniform distribution all outcomes are equally likely to occur, on a normal distribution all outcomes close to the mean and more likely to occur."
      ],
      "metadata": {
        "id": "LOFEL75IjqHK"
      }
    },
    {
      "cell_type": "code",
      "source": [
        "random_tensor_3 = tf.random.Generator.from_seed(45)\n",
        "random_tensor_3 = random_tensor_3.normal([3,2])\n",
        "random_tensor_3\n",
        "\n",
        "# shuffle random_tensor_3\n",
        "\n",
        "shuffeled_tensor = tf.random.shuffle(random_tensor_3)\n",
        "\n",
        "random_tensor_3, shuffeled_tensor"
      ],
      "metadata": {
        "colab": {
          "base_uri": "https://localhost:8080/"
        },
        "id": "QFPJNyBljHuU",
        "outputId": "b1e15e0d-6e22-4ab3-c43b-892fc5f75937"
      },
      "execution_count": 102,
      "outputs": [
        {
          "output_type": "execute_result",
          "data": {
            "text/plain": [
              "(<tf.Tensor: shape=(3, 2), dtype=float32, numpy=\n",
              " array([[-0.3522796 ,  0.40621263],\n",
              "        [-1.0523509 ,  1.2054597 ],\n",
              "        [ 1.6874489 , -0.4462975 ]], dtype=float32)>,\n",
              " <tf.Tensor: shape=(3, 2), dtype=float32, numpy=\n",
              " array([[-1.0523509 ,  1.2054597 ],\n",
              "        [-0.3522796 ,  0.40621263],\n",
              "        [ 1.6874489 , -0.4462975 ]], dtype=float32)>)"
            ]
          },
          "metadata": {},
          "execution_count": 102
        }
      ]
    },
    {
      "cell_type": "code",
      "source": [
        "random_tensor_4 = tf.random.Generator.from_seed(45)\n",
        "random_tensor_4 = random_tensor_4.normal([3,2])\n",
        "\n",
        "\n",
        "# shuffle random_tensor_4 with seed 40\n",
        "# shuffled tensor with a seed will not changed the order.\n",
        "\n",
        "tf.random.set_seed(40)\n",
        "shuffeled_tensor = tf.random.shuffle(random_tensor_4)\n",
        "\n",
        "random_tensor_4, shuffeled_tensor"
      ],
      "metadata": {
        "colab": {
          "base_uri": "https://localhost:8080/"
        },
        "id": "VIRf4DLJtzUY",
        "outputId": "b3f0452e-b5a4-4115-c3d7-9c218475c5a3"
      },
      "execution_count": 103,
      "outputs": [
        {
          "output_type": "execute_result",
          "data": {
            "text/plain": [
              "(<tf.Tensor: shape=(3, 2), dtype=float32, numpy=\n",
              " array([[-0.3522796 ,  0.40621263],\n",
              "        [-1.0523509 ,  1.2054597 ],\n",
              "        [ 1.6874489 , -0.4462975 ]], dtype=float32)>,\n",
              " <tf.Tensor: shape=(3, 2), dtype=float32, numpy=\n",
              " array([[-1.0523509 ,  1.2054597 ],\n",
              "        [-0.3522796 ,  0.40621263],\n",
              "        [ 1.6874489 , -0.4462975 ]], dtype=float32)>)"
            ]
          },
          "metadata": {},
          "execution_count": 103
        }
      ]
    },
    {
      "cell_type": "code",
      "source": [
        "tf.ones([2,2])\n",
        "tf.zeros([2,2])"
      ],
      "metadata": {
        "colab": {
          "base_uri": "https://localhost:8080/"
        },
        "id": "hV-LOz0TUuxW",
        "outputId": "ccea5c17-c534-4223-f632-e576b425c157"
      },
      "execution_count": 104,
      "outputs": [
        {
          "output_type": "execute_result",
          "data": {
            "text/plain": [
              "<tf.Tensor: shape=(2, 2), dtype=float32, numpy=\n",
              "array([[0., 0.],\n",
              "       [0., 0.]], dtype=float32)>"
            ]
          },
          "metadata": {},
          "execution_count": 104
        }
      ]
    },
    {
      "cell_type": "markdown",
      "source": [
        "What is the difference between NumPy arrays and TensorFlow tensors? TensorFlow tensors can be run on GPU.  "
      ],
      "metadata": {
        "id": "GMEFRfkYVV9R"
      }
    },
    {
      "cell_type": "markdown",
      "source": [
        "COnvert a numpy array to a tensor"
      ],
      "metadata": {
        "id": "jK5w0rHinj7j"
      }
    },
    {
      "cell_type": "code",
      "source": [
        "import numpy as np\n",
        "numpy_A = np.arange(1, 25, dtype=np.int32)\n",
        "numpy_A"
      ],
      "metadata": {
        "colab": {
          "base_uri": "https://localhost:8080/"
        },
        "id": "Qm2_GV7pVJ_B",
        "outputId": "c209ecb8-e5dc-4163-c257-5006e893cfa1"
      },
      "execution_count": 105,
      "outputs": [
        {
          "output_type": "execute_result",
          "data": {
            "text/plain": [
              "array([ 1,  2,  3,  4,  5,  6,  7,  8,  9, 10, 11, 12, 13, 14, 15, 16, 17,\n",
              "       18, 19, 20, 21, 22, 23, 24], dtype=int32)"
            ]
          },
          "metadata": {},
          "execution_count": 105
        }
      ]
    },
    {
      "cell_type": "code",
      "source": [
        "# we change a NumPy array to a TensorFlow Tensor we want. We can also change the shape of the tensor but it should add up to the total number of elements.\n",
        "\n",
        "numpy_to_constant = tf.constant(numpy_A)\n",
        "numpy_to_variable = tf.Variable(numpy_A)\n",
        "\n",
        "numpy_to_constant, numpy_to_variable"
      ],
      "metadata": {
        "colab": {
          "base_uri": "https://localhost:8080/"
        },
        "id": "2hzr4ktPnmyj",
        "outputId": "4ec0713f-45f3-4dbf-ede0-b4e02abcc8bb"
      },
      "execution_count": 106,
      "outputs": [
        {
          "output_type": "execute_result",
          "data": {
            "text/plain": [
              "(<tf.Tensor: shape=(24,), dtype=int32, numpy=\n",
              " array([ 1,  2,  3,  4,  5,  6,  7,  8,  9, 10, 11, 12, 13, 14, 15, 16, 17,\n",
              "        18, 19, 20, 21, 22, 23, 24], dtype=int32)>,\n",
              " <tf.Variable 'Variable:0' shape=(24,) dtype=int32, numpy=\n",
              " array([ 1,  2,  3,  4,  5,  6,  7,  8,  9, 10, 11, 12, 13, 14, 15, 16, 17,\n",
              "        18, 19, 20, 21, 22, 23, 24], dtype=int32)>)"
            ]
          },
          "metadata": {},
          "execution_count": 106
        }
      ]
    },
    {
      "cell_type": "code",
      "source": [
        "change_shape_numpy_to_constant = tf.constant(numpy_A, shape=(3,8))\n",
        "change_shape_numpy_to_constant_2 = tf.constant(numpy_A, shape=(2, 3, 4))\n",
        "\n",
        "# cannot change shape of variable\n",
        "# change_shape_numpy_to_variable = tf.Variable(numpy_A, shape=(2, 3, 4))\n",
        "\n",
        "change_shape_numpy_to_constant, change_shape_numpy_to_constant_2"
      ],
      "metadata": {
        "colab": {
          "base_uri": "https://localhost:8080/"
        },
        "id": "Ug05F-jq-6Xr",
        "outputId": "737417f9-4474-49f5-a368-e857b8c23490"
      },
      "execution_count": 107,
      "outputs": [
        {
          "output_type": "execute_result",
          "data": {
            "text/plain": [
              "(<tf.Tensor: shape=(3, 8), dtype=int32, numpy=\n",
              " array([[ 1,  2,  3,  4,  5,  6,  7,  8],\n",
              "        [ 9, 10, 11, 12, 13, 14, 15, 16],\n",
              "        [17, 18, 19, 20, 21, 22, 23, 24]], dtype=int32)>,\n",
              " <tf.Tensor: shape=(2, 3, 4), dtype=int32, numpy=\n",
              " array([[[ 1,  2,  3,  4],\n",
              "         [ 5,  6,  7,  8],\n",
              "         [ 9, 10, 11, 12]],\n",
              " \n",
              "        [[13, 14, 15, 16],\n",
              "         [17, 18, 19, 20],\n",
              "         [21, 22, 23, 24]]], dtype=int32)>)"
            ]
          },
          "metadata": {},
          "execution_count": 107
        }
      ]
    },
    {
      "cell_type": "code",
      "source": [
        "change_shape_numpy_to_constant.ndim\n"
      ],
      "metadata": {
        "colab": {
          "base_uri": "https://localhost:8080/"
        },
        "id": "aoFmcZnQEEmh",
        "outputId": "5319e389-260f-416c-aa7e-5c1246b9ea9e"
      },
      "execution_count": 108,
      "outputs": [
        {
          "output_type": "execute_result",
          "data": {
            "text/plain": [
              "2"
            ]
          },
          "metadata": {},
          "execution_count": 108
        }
      ]
    },
    {
      "cell_type": "code",
      "source": [
        "change_shape_numpy_to_constant_2.ndim"
      ],
      "metadata": {
        "colab": {
          "base_uri": "https://localhost:8080/"
        },
        "id": "fmVWQ0D3Kv4h",
        "outputId": "51d41301-cb7a-4115-ca1a-fbfdd5dd7309"
      },
      "execution_count": 109,
      "outputs": [
        {
          "output_type": "execute_result",
          "data": {
            "text/plain": [
              "3"
            ]
          },
          "metadata": {},
          "execution_count": 109
        }
      ]
    },
    {
      "cell_type": "code",
      "source": [
        "# creating a rank 4 tensor\n",
        "\n",
        "rank_4_tensor = tf.zeros(shape=[2,3,4,5])\n",
        "\n",
        "rank_4_tensor.ndim, rank_4_tensor, rank_4_tensor[0], rank_4_tensor.shape, tf.size(rank_4_tensor)"
      ],
      "metadata": {
        "colab": {
          "base_uri": "https://localhost:8080/"
        },
        "id": "Q0qsRKHMPRwH",
        "outputId": "e013c58f-0b32-4149-d820-957e619e3289"
      },
      "execution_count": 110,
      "outputs": [
        {
          "output_type": "execute_result",
          "data": {
            "text/plain": [
              "(4,\n",
              " <tf.Tensor: shape=(2, 3, 4, 5), dtype=float32, numpy=\n",
              " array([[[[0., 0., 0., 0., 0.],\n",
              "          [0., 0., 0., 0., 0.],\n",
              "          [0., 0., 0., 0., 0.],\n",
              "          [0., 0., 0., 0., 0.]],\n",
              " \n",
              "         [[0., 0., 0., 0., 0.],\n",
              "          [0., 0., 0., 0., 0.],\n",
              "          [0., 0., 0., 0., 0.],\n",
              "          [0., 0., 0., 0., 0.]],\n",
              " \n",
              "         [[0., 0., 0., 0., 0.],\n",
              "          [0., 0., 0., 0., 0.],\n",
              "          [0., 0., 0., 0., 0.],\n",
              "          [0., 0., 0., 0., 0.]]],\n",
              " \n",
              " \n",
              "        [[[0., 0., 0., 0., 0.],\n",
              "          [0., 0., 0., 0., 0.],\n",
              "          [0., 0., 0., 0., 0.],\n",
              "          [0., 0., 0., 0., 0.]],\n",
              " \n",
              "         [[0., 0., 0., 0., 0.],\n",
              "          [0., 0., 0., 0., 0.],\n",
              "          [0., 0., 0., 0., 0.],\n",
              "          [0., 0., 0., 0., 0.]],\n",
              " \n",
              "         [[0., 0., 0., 0., 0.],\n",
              "          [0., 0., 0., 0., 0.],\n",
              "          [0., 0., 0., 0., 0.],\n",
              "          [0., 0., 0., 0., 0.]]]], dtype=float32)>,\n",
              " <tf.Tensor: shape=(3, 4, 5), dtype=float32, numpy=\n",
              " array([[[0., 0., 0., 0., 0.],\n",
              "         [0., 0., 0., 0., 0.],\n",
              "         [0., 0., 0., 0., 0.],\n",
              "         [0., 0., 0., 0., 0.]],\n",
              " \n",
              "        [[0., 0., 0., 0., 0.],\n",
              "         [0., 0., 0., 0., 0.],\n",
              "         [0., 0., 0., 0., 0.],\n",
              "         [0., 0., 0., 0., 0.]],\n",
              " \n",
              "        [[0., 0., 0., 0., 0.],\n",
              "         [0., 0., 0., 0., 0.],\n",
              "         [0., 0., 0., 0., 0.],\n",
              "         [0., 0., 0., 0., 0.]]], dtype=float32)>,\n",
              " TensorShape([2, 3, 4, 5]),\n",
              " <tf.Tensor: shape=(), dtype=int32, numpy=120>)"
            ]
          },
          "metadata": {},
          "execution_count": 110
        }
      ]
    },
    {
      "cell_type": "code",
      "source": [
        "print(\"Datatype of the tensor:\", rank_4_tensor.dtype)\n",
        "print(\"Number of dimentions in a tensor:\", rank_4_tensor.ndim)\n",
        "print(\"Shape of the tensor:\", rank_4_tensor.shape)\n",
        "print(\"Elements on the 0 axis:\", rank_4_tensor.shape[0])\n",
        "print(\"Elements ont the last axis:\", rank_4_tensor.shape[-1])\n",
        "print(\"Total number of tensors:\", tf.size(rank_4_tensor).numpy())"
      ],
      "metadata": {
        "colab": {
          "base_uri": "https://localhost:8080/"
        },
        "id": "tI1qnO2UJ3Kh",
        "outputId": "13a466ee-619b-42ec-b3cd-ade7109acd18"
      },
      "execution_count": 111,
      "outputs": [
        {
          "output_type": "stream",
          "name": "stdout",
          "text": [
            "Datatype of the tensor: <dtype: 'float32'>\n",
            "Number of dimentions in a tensor: 4\n",
            "Shape of the tensor: (2, 3, 4, 5)\n",
            "Elements on the 0 axis: 2\n",
            "Elements ont the last axis: 5\n",
            "Total number of tensors: 120\n"
          ]
        }
      ]
    },
    {
      "cell_type": "code",
      "source": [
        "# Tensors can be indexed like python list.\n",
        "\n",
        "rank_4_tensor[:1,:,:,:]"
      ],
      "metadata": {
        "colab": {
          "base_uri": "https://localhost:8080/"
        },
        "id": "BwPXnemJLT64",
        "outputId": "949b2578-52f4-46a4-9225-2855b91ebdf0"
      },
      "execution_count": 112,
      "outputs": [
        {
          "output_type": "execute_result",
          "data": {
            "text/plain": [
              "<tf.Tensor: shape=(1, 3, 4, 5), dtype=float32, numpy=\n",
              "array([[[[0., 0., 0., 0., 0.],\n",
              "         [0., 0., 0., 0., 0.],\n",
              "         [0., 0., 0., 0., 0.],\n",
              "         [0., 0., 0., 0., 0.]],\n",
              "\n",
              "        [[0., 0., 0., 0., 0.],\n",
              "         [0., 0., 0., 0., 0.],\n",
              "         [0., 0., 0., 0., 0.],\n",
              "         [0., 0., 0., 0., 0.]],\n",
              "\n",
              "        [[0., 0., 0., 0., 0.],\n",
              "         [0., 0., 0., 0., 0.],\n",
              "         [0., 0., 0., 0., 0.],\n",
              "         [0., 0., 0., 0., 0.]]]], dtype=float32)>"
            ]
          },
          "metadata": {},
          "execution_count": 112
        }
      ]
    },
    {
      "cell_type": "code",
      "source": [
        "# Create a random rank 2 tensor.\n",
        "\n",
        "rank_2_tensor = tf.random.Generator.from_seed(45)\n",
        "rank_2_tensor = rank_2_tensor.normal([2,2])\n",
        "rank_2_tensor"
      ],
      "metadata": {
        "colab": {
          "base_uri": "https://localhost:8080/"
        },
        "id": "hzLImezxxOpf",
        "outputId": "aa4b09e3-0277-4fb7-b12b-8368bef50434"
      },
      "execution_count": 113,
      "outputs": [
        {
          "output_type": "execute_result",
          "data": {
            "text/plain": [
              "<tf.Tensor: shape=(2, 2), dtype=float32, numpy=\n",
              "array([[-0.3522796 ,  0.40621263],\n",
              "       [-1.0523509 ,  1.2054597 ]], dtype=float32)>"
            ]
          },
          "metadata": {},
          "execution_count": 113
        }
      ]
    },
    {
      "cell_type": "code",
      "source": [
        "rank_2_tensor[:,-1]"
      ],
      "metadata": {
        "colab": {
          "base_uri": "https://localhost:8080/"
        },
        "id": "X857UlRQz_EJ",
        "outputId": "fdabe594-b8a5-4cce-f3fd-8ae69db06fe2"
      },
      "execution_count": 114,
      "outputs": [
        {
          "output_type": "execute_result",
          "data": {
            "text/plain": [
              "<tf.Tensor: shape=(2,), dtype=float32, numpy=array([0.40621263, 1.2054597 ], dtype=float32)>"
            ]
          },
          "metadata": {},
          "execution_count": 114
        }
      ]
    },
    {
      "cell_type": "code",
      "source": [
        "rank_3_tensor = rank_2_tensor[..., tf.newaxis]\n",
        "rank_3_tensor"
      ],
      "metadata": {
        "colab": {
          "base_uri": "https://localhost:8080/"
        },
        "id": "IiWA9atZ1Aja",
        "outputId": "faa611b5-71b2-4d0d-f729-f4202c5936d8"
      },
      "execution_count": 115,
      "outputs": [
        {
          "output_type": "execute_result",
          "data": {
            "text/plain": [
              "<tf.Tensor: shape=(2, 2, 1), dtype=float32, numpy=\n",
              "array([[[-0.3522796 ],\n",
              "        [ 0.40621263]],\n",
              "\n",
              "       [[-1.0523509 ],\n",
              "        [ 1.2054597 ]]], dtype=float32)>"
            ]
          },
          "metadata": {},
          "execution_count": 115
        }
      ]
    },
    {
      "cell_type": "code",
      "source": [
        "tf.expand_dims(rank_2_tensor, axis=-1)"
      ],
      "metadata": {
        "colab": {
          "base_uri": "https://localhost:8080/"
        },
        "id": "Xm-cxZPL3Noi",
        "outputId": "e4a27a67-6453-4ee3-9dec-873060fb301d"
      },
      "execution_count": 116,
      "outputs": [
        {
          "output_type": "execute_result",
          "data": {
            "text/plain": [
              "<tf.Tensor: shape=(2, 2, 1), dtype=float32, numpy=\n",
              "array([[[-0.3522796 ],\n",
              "        [ 0.40621263]],\n",
              "\n",
              "       [[-1.0523509 ],\n",
              "        [ 1.2054597 ]]], dtype=float32)>"
            ]
          },
          "metadata": {},
          "execution_count": 116
        }
      ]
    },
    {
      "cell_type": "code",
      "source": [
        "tf.expand_dims(rank_2_tensor, axis=0)"
      ],
      "metadata": {
        "colab": {
          "base_uri": "https://localhost:8080/"
        },
        "id": "pwkKM2V8Byq3",
        "outputId": "a1d8110d-9e8c-4b09-d1b6-f4c895d4bec1"
      },
      "execution_count": 117,
      "outputs": [
        {
          "output_type": "execute_result",
          "data": {
            "text/plain": [
              "<tf.Tensor: shape=(1, 2, 2), dtype=float32, numpy=\n",
              "array([[[-0.3522796 ,  0.40621263],\n",
              "        [-1.0523509 ,  1.2054597 ]]], dtype=float32)>"
            ]
          },
          "metadata": {},
          "execution_count": 117
        }
      ]
    },
    {
      "cell_type": "code",
      "source": [
        "# using basic operations on tensors +, -, *, /\n",
        "\n",
        "operation_tensor = tf.random.Generator.from_seed(69)\n",
        "operation_tensor = operation_tensor.normal([2,2])\n",
        "\n",
        "operation_tensor, operation_tensor + 1, operation_tensor - 1, operation_tensor * 10, operation_tensor / 2"
      ],
      "metadata": {
        "colab": {
          "base_uri": "https://localhost:8080/"
        },
        "id": "s5_Evbf7CZ2n",
        "outputId": "8bd14085-1682-48ef-ff0c-b75b34000ca6"
      },
      "execution_count": 118,
      "outputs": [
        {
          "output_type": "execute_result",
          "data": {
            "text/plain": [
              "(<tf.Tensor: shape=(2, 2), dtype=float32, numpy=\n",
              " array([[ 0.29164317,  1.4531525 ],\n",
              "        [-0.8223833 , -1.3446563 ]], dtype=float32)>,\n",
              " <tf.Tensor: shape=(2, 2), dtype=float32, numpy=\n",
              " array([[ 1.2916431 ,  2.4531527 ],\n",
              "        [ 0.17761672, -0.34465635]], dtype=float32)>,\n",
              " <tf.Tensor: shape=(2, 2), dtype=float32, numpy=\n",
              " array([[-0.70835686,  0.45315254],\n",
              "        [-1.8223833 , -2.3446565 ]], dtype=float32)>,\n",
              " <tf.Tensor: shape=(2, 2), dtype=float32, numpy=\n",
              " array([[  2.9164317,  14.531526 ],\n",
              "        [ -8.223833 , -13.446564 ]], dtype=float32)>,\n",
              " <tf.Tensor: shape=(2, 2), dtype=float32, numpy=\n",
              " array([[ 0.14582159,  0.72657627],\n",
              "        [-0.41119164, -0.6723282 ]], dtype=float32)>)"
            ]
          },
          "metadata": {},
          "execution_count": 118
        }
      ]
    },
    {
      "cell_type": "code",
      "source": [
        "tf.multiply(operation_tensor, 10), tf.add(operation_tensor, 1), tf.subtract(operation_tensor, 1), tf.divide(operation_tensor, 2)"
      ],
      "metadata": {
        "colab": {
          "base_uri": "https://localhost:8080/"
        },
        "id": "dviOBKVyEcWO",
        "outputId": "7dc92891-35e0-4771-a4c3-896c90b5de55"
      },
      "execution_count": 119,
      "outputs": [
        {
          "output_type": "execute_result",
          "data": {
            "text/plain": [
              "(<tf.Tensor: shape=(2, 2), dtype=float32, numpy=\n",
              " array([[  2.9164317,  14.531526 ],\n",
              "        [ -8.223833 , -13.446564 ]], dtype=float32)>,\n",
              " <tf.Tensor: shape=(2, 2), dtype=float32, numpy=\n",
              " array([[ 1.2916431 ,  2.4531527 ],\n",
              "        [ 0.17761672, -0.34465635]], dtype=float32)>,\n",
              " <tf.Tensor: shape=(2, 2), dtype=float32, numpy=\n",
              " array([[-0.70835686,  0.45315254],\n",
              "        [-1.8223833 , -2.3446565 ]], dtype=float32)>,\n",
              " <tf.Tensor: shape=(2, 2), dtype=float32, numpy=\n",
              " array([[ 0.14582159,  0.72657627],\n",
              "        [-0.41119164, -0.6723282 ]], dtype=float32)>)"
            ]
          },
          "metadata": {},
          "execution_count": 119
        }
      ]
    },
    {
      "cell_type": "code",
      "source": [
        "# matrix multiplication in tensorflow\n",
        "tensor = tf.constant([[10,7],\n",
        "                      [3,4]])\n",
        "\n",
        "tf.matmul(tensor,tensor), tensor @ tensor"
      ],
      "metadata": {
        "colab": {
          "base_uri": "https://localhost:8080/"
        },
        "id": "oU16mZM3NFvk",
        "outputId": "cef79e65-1a51-464d-a0e5-71d71869749f"
      },
      "execution_count": 120,
      "outputs": [
        {
          "output_type": "execute_result",
          "data": {
            "text/plain": [
              "(<tf.Tensor: shape=(2, 2), dtype=int32, numpy=\n",
              " array([[121,  98],\n",
              "        [ 42,  37]], dtype=int32)>,\n",
              " <tf.Tensor: shape=(2, 2), dtype=int32, numpy=\n",
              " array([[121,  98],\n",
              "        [ 42,  37]], dtype=int32)>)"
            ]
          },
          "metadata": {},
          "execution_count": 120
        }
      ]
    },
    {
      "cell_type": "code",
      "source": [
        "# we need to perform matrix multiplication\n",
        "# inner dimentions need to match and the resulting matrix is the outer dimentions\n",
        "\n",
        "x = tf.constant([[1,2],\n",
        "                [3,4],\n",
        "                [5,6]])\n",
        "y = tf.constant([[7,8],\n",
        "                [9,10],\n",
        "                [11,12]])\n",
        "\n",
        "# tf.matmul(x, y) and x @ y, which are matrix multiplications would not work as it is 3x2 and 3x2. We want the inner dimentions to match.\n",
        "# we msut reshape x or y, here we reshape y to be 2x3. The multiplication will work 3x2 and 2x3\n",
        "\n",
        "tf.reshape(y, shape=(2,3))"
      ],
      "metadata": {
        "colab": {
          "base_uri": "https://localhost:8080/"
        },
        "id": "xws-H3VSi-D2",
        "outputId": "bf3c4827-786e-45a6-88a4-f0b6abb02cc7"
      },
      "execution_count": 121,
      "outputs": [
        {
          "output_type": "execute_result",
          "data": {
            "text/plain": [
              "<tf.Tensor: shape=(2, 3), dtype=int32, numpy=\n",
              "array([[ 7,  8,  9],\n",
              "       [10, 11, 12]], dtype=int32)>"
            ]
          },
          "metadata": {},
          "execution_count": 121
        }
      ]
    },
    {
      "cell_type": "code",
      "source": [
        "# After the change now it will work\n",
        "tf.matmul(x, tf.reshape(y, shape=(2,3))), x @ tf.reshape(y, shape=(2,3))"
      ],
      "metadata": {
        "colab": {
          "base_uri": "https://localhost:8080/"
        },
        "id": "l1DSbY4o5A8h",
        "outputId": "8b87e981-0ac9-4308-fd65-407a78b2f209"
      },
      "execution_count": 122,
      "outputs": [
        {
          "output_type": "execute_result",
          "data": {
            "text/plain": [
              "(<tf.Tensor: shape=(3, 3), dtype=int32, numpy=\n",
              " array([[ 27,  30,  33],\n",
              "        [ 61,  68,  75],\n",
              "        [ 95, 106, 117]], dtype=int32)>,\n",
              " <tf.Tensor: shape=(3, 3), dtype=int32, numpy=\n",
              " array([[ 27,  30,  33],\n",
              "        [ 61,  68,  75],\n",
              "        [ 95, 106, 117]], dtype=int32)>)"
            ]
          },
          "metadata": {},
          "execution_count": 122
        }
      ]
    },
    {
      "cell_type": "code",
      "source": [
        "tf.reshape(x, shape=(2,3))"
      ],
      "metadata": {
        "colab": {
          "base_uri": "https://localhost:8080/"
        },
        "id": "4uBIu_im540i",
        "outputId": "289c25c9-8786-45f0-eed0-6e36cab4b8e7"
      },
      "execution_count": 123,
      "outputs": [
        {
          "output_type": "execute_result",
          "data": {
            "text/plain": [
              "<tf.Tensor: shape=(2, 3), dtype=int32, numpy=\n",
              "array([[1, 2, 3],\n",
              "       [4, 5, 6]], dtype=int32)>"
            ]
          },
          "metadata": {},
          "execution_count": 123
        }
      ]
    },
    {
      "cell_type": "code",
      "source": [
        "# When we change x instead of y, the product of matrix multiplication will change\n",
        "tf.matmul(tf.reshape(x, shape=(2,3)), y), tf.reshape(x, shape=(2,3)) @ y"
      ],
      "metadata": {
        "colab": {
          "base_uri": "https://localhost:8080/"
        },
        "id": "FvBpfXmhjosl",
        "outputId": "028b57e9-eb58-420f-852a-23acd3c15055"
      },
      "execution_count": 124,
      "outputs": [
        {
          "output_type": "execute_result",
          "data": {
            "text/plain": [
              "(<tf.Tensor: shape=(2, 2), dtype=int32, numpy=\n",
              " array([[ 58,  64],\n",
              "        [139, 154]], dtype=int32)>,\n",
              " <tf.Tensor: shape=(2, 2), dtype=int32, numpy=\n",
              " array([[ 58,  64],\n",
              "        [139, 154]], dtype=int32)>)"
            ]
          },
          "metadata": {},
          "execution_count": 124
        }
      ]
    },
    {
      "cell_type": "code",
      "source": [
        "# tf.reshape and tf.transpose are two different opperations we can perform a matrix\n",
        "reshape_tensor = tf.reshape(x, shape=(2,3))\n",
        "\n",
        "transpose_tensor = tf.transpose(x)\n",
        "\n",
        "x, reshape_tensor, transpose_tensor"
      ],
      "metadata": {
        "colab": {
          "base_uri": "https://localhost:8080/"
        },
        "id": "O2rF0eu-kvNd",
        "outputId": "661391c5-4d8c-4603-b255-d25c3c4ccccb"
      },
      "execution_count": 125,
      "outputs": [
        {
          "output_type": "execute_result",
          "data": {
            "text/plain": [
              "(<tf.Tensor: shape=(3, 2), dtype=int32, numpy=\n",
              " array([[1, 2],\n",
              "        [3, 4],\n",
              "        [5, 6]], dtype=int32)>,\n",
              " <tf.Tensor: shape=(2, 3), dtype=int32, numpy=\n",
              " array([[1, 2, 3],\n",
              "        [4, 5, 6]], dtype=int32)>,\n",
              " <tf.Tensor: shape=(2, 3), dtype=int32, numpy=\n",
              " array([[1, 3, 5],\n",
              "        [2, 4, 6]], dtype=int32)>)"
            ]
          },
          "metadata": {},
          "execution_count": 125
        }
      ]
    },
    {
      "cell_type": "code",
      "source": [
        "# We can perform matrix multiplication with transpose\n",
        "tf.matmul(tf.transpose(x), y)"
      ],
      "metadata": {
        "colab": {
          "base_uri": "https://localhost:8080/"
        },
        "id": "Qpf7L8PTlXiq",
        "outputId": "bacff5bc-1491-4184-827a-7c3f273a2532"
      },
      "execution_count": 126,
      "outputs": [
        {
          "output_type": "execute_result",
          "data": {
            "text/plain": [
              "<tf.Tensor: shape=(2, 2), dtype=int32, numpy=\n",
              "array([[ 89,  98],\n",
              "       [116, 128]], dtype=int32)>"
            ]
          },
          "metadata": {},
          "execution_count": 126
        }
      ]
    },
    {
      "cell_type": "code",
      "source": [
        "# reduced precision the default value is int32 and float32, we can also use int16 and float16 which would use less memory.\n",
        "a = tf.constant([[1,2],\n",
        "                 [3,4]])\n",
        "b = tf.constant([[5.1,6.2],\n",
        "                 [7.3,8.4]])\n",
        "a.dtype, b.dtype"
      ],
      "metadata": {
        "colab": {
          "base_uri": "https://localhost:8080/"
        },
        "id": "usJSKJhVmT4b",
        "outputId": "af048ab7-b1ad-4ca2-daa0-5224cde61e00"
      },
      "execution_count": 127,
      "outputs": [
        {
          "output_type": "execute_result",
          "data": {
            "text/plain": [
              "(tf.int32, tf.float32)"
            ]
          },
          "metadata": {},
          "execution_count": 127
        }
      ]
    },
    {
      "cell_type": "code",
      "source": [
        "c = tf.cast(a, dtype=tf.int16)\n",
        "d = tf.cast(b, dtype=tf.float16)\n",
        "\n",
        "c.dtype, d.dtype"
      ],
      "metadata": {
        "colab": {
          "base_uri": "https://localhost:8080/"
        },
        "id": "7Vw4ckwQ0Cu-",
        "outputId": "d8745fc6-e607-4582-d7b2-e2145d809ff5"
      },
      "execution_count": 128,
      "outputs": [
        {
          "output_type": "execute_result",
          "data": {
            "text/plain": [
              "(tf.int16, tf.float16)"
            ]
          },
          "metadata": {},
          "execution_count": 128
        }
      ]
    },
    {
      "cell_type": "code",
      "source": [
        "# Aggregating a tensor: condensing them from multiple amount of values to smaller values\n",
        "\n",
        "# Turn all the negitive numbers into positive numbers\n",
        "\n",
        "negative_tensor = tf.constant([[-1,-2],\n",
        "                               [-3, -4]])\n",
        "\n",
        "absolute_tensor = tf.abs(negative_tensor)\n",
        "\n",
        "negative_tensor, absolute_tensor"
      ],
      "metadata": {
        "colab": {
          "base_uri": "https://localhost:8080/"
        },
        "id": "o0zz01rJ1aa5",
        "outputId": "afe9274b-c099-4a1f-ad6c-4d23be6fa5cf"
      },
      "execution_count": 129,
      "outputs": [
        {
          "output_type": "execute_result",
          "data": {
            "text/plain": [
              "(<tf.Tensor: shape=(2, 2), dtype=int32, numpy=\n",
              " array([[-1, -2],\n",
              "        [-3, -4]], dtype=int32)>,\n",
              " <tf.Tensor: shape=(2, 2), dtype=int32, numpy=\n",
              " array([[1, 2],\n",
              "        [3, 4]], dtype=int32)>)"
            ]
          },
          "metadata": {},
          "execution_count": 129
        }
      ]
    },
    {
      "cell_type": "code",
      "source": [
        "# find the min, max, mean and sum of a tensor\n",
        "\n",
        "random_tensor = tf.random.Generator.from_seed(420)\n",
        "random_tensor_float = random_tensor.normal([2,2])\n",
        "random_tensor_int = tf.cast(random_tensor_float, dtype = tf.int32)\n",
        "\n",
        "random_tensor_min = tf.reduce_min(random_tensor_int)\n",
        "random_tensor_max = tf.reduce_max(random_tensor_int)\n",
        "random_tensor_mean = tf.reduce_mean(random_tensor_int)\n",
        "random_tensor_sum = tf.reduce_sum(random_tensor_int)\n",
        "random_tensor_variance = tf.math.reduce_variance(random_tensor_float)\n",
        "random_tensor_standard_deviation = tf.math.reduce_std(random_tensor_float)\n",
        "\n",
        "random_tensor_float, random_tensor_int, random_tensor_min, random_tensor_max, random_tensor_mean, random_tensor_sum, random_tensor_variance, random_tensor_standard_deviation"
      ],
      "metadata": {
        "colab": {
          "base_uri": "https://localhost:8080/"
        },
        "id": "GYwaONN16ErL",
        "outputId": "3f99fb98-21dd-459d-8aa0-da5688406168"
      },
      "execution_count": 130,
      "outputs": [
        {
          "output_type": "execute_result",
          "data": {
            "text/plain": [
              "(<tf.Tensor: shape=(2, 2), dtype=float32, numpy=\n",
              " array([[ 0.6356361 , -0.08795371],\n",
              "        [-1.3398387 , -0.00641572]], dtype=float32)>,\n",
              " <tf.Tensor: shape=(2, 2), dtype=int32, numpy=\n",
              " array([[ 0,  0],\n",
              "        [-1,  0]], dtype=int32)>,\n",
              " <tf.Tensor: shape=(), dtype=int32, numpy=-1>,\n",
              " <tf.Tensor: shape=(), dtype=int32, numpy=0>,\n",
              " <tf.Tensor: shape=(), dtype=int32, numpy=0>,\n",
              " <tf.Tensor: shape=(), dtype=int32, numpy=-1>,\n",
              " <tf.Tensor: shape=(), dtype=float32, numpy=0.5118872>,\n",
              " <tf.Tensor: shape=(), dtype=float32, numpy=0.7154629>)"
            ]
          },
          "metadata": {},
          "execution_count": 130
        }
      ]
    },
    {
      "cell_type": "code",
      "source": [
        "# Finding the positional maximum and minimum\n",
        "tf.random.set_seed(42)\n",
        "positional_tensor = tf.random.uniform([50])\n",
        "\n",
        "positional_tensor, tf.argmax(positional_tensor), positional_tensor[tf.argmax(positional_tensor)], tf.reduce_max(positional_tensor)"
      ],
      "metadata": {
        "colab": {
          "base_uri": "https://localhost:8080/"
        },
        "id": "xLPtCqK5AiHN",
        "outputId": "84bb547d-84ac-4014-e777-1e9f06e708f2"
      },
      "execution_count": 144,
      "outputs": [
        {
          "output_type": "execute_result",
          "data": {
            "text/plain": [
              "(<tf.Tensor: shape=(50,), dtype=float32, numpy=\n",
              " array([0.6645621 , 0.44100678, 0.3528825 , 0.46448255, 0.03366041,\n",
              "        0.68467236, 0.74011743, 0.8724445 , 0.22632635, 0.22319686,\n",
              "        0.3103881 , 0.7223358 , 0.13318717, 0.5480639 , 0.5746088 ,\n",
              "        0.8996835 , 0.00946367, 0.5212307 , 0.6345445 , 0.1993283 ,\n",
              "        0.72942245, 0.54583454, 0.10756552, 0.6767061 , 0.6602763 ,\n",
              "        0.33695042, 0.60141766, 0.21062577, 0.8527372 , 0.44062173,\n",
              "        0.9485276 , 0.23752594, 0.81179297, 0.5263394 , 0.494308  ,\n",
              "        0.21612847, 0.8457197 , 0.8718841 , 0.3083862 , 0.6868038 ,\n",
              "        0.23764038, 0.7817228 , 0.9671384 , 0.06870162, 0.79873943,\n",
              "        0.66028714, 0.5871513 , 0.16461694, 0.7381023 , 0.32054043],\n",
              "       dtype=float32)>,\n",
              " <tf.Tensor: shape=(), dtype=int64, numpy=42>,\n",
              " <tf.Tensor: shape=(), dtype=float32, numpy=0.9671384>,\n",
              " <tf.Tensor: shape=(), dtype=float32, numpy=0.9671384>)"
            ]
          },
          "metadata": {},
          "execution_count": 144
        }
      ]
    },
    {
      "cell_type": "code",
      "source": [
        "tf.argmin(positional_tensor), positional_tensor[tf.argmin(positional_tensor)], tf.reduce_min(positional_tensor)"
      ],
      "metadata": {
        "colab": {
          "base_uri": "https://localhost:8080/"
        },
        "id": "ATDlJ91ocEX3",
        "outputId": "90ce4525-a45c-4e0f-e8a6-8c7060fadbb1"
      },
      "execution_count": 147,
      "outputs": [
        {
          "output_type": "execute_result",
          "data": {
            "text/plain": [
              "(<tf.Tensor: shape=(), dtype=int64, numpy=16>,\n",
              " <tf.Tensor: shape=(), dtype=float32, numpy=0.009463668>,\n",
              " <tf.Tensor: shape=(), dtype=float32, numpy=0.009463668>)"
            ]
          },
          "metadata": {},
          "execution_count": 147
        }
      ]
    },
    {
      "cell_type": "code",
      "source": [],
      "metadata": {
        "id": "amWZeol5eceD"
      },
      "execution_count": null,
      "outputs": []
    }
  ]
}